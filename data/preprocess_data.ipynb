{
 "cells": [
  {
   "cell_type": "code",
   "execution_count": null,
   "id": "a39fc04f",
   "metadata": {
    "scrolled": true
   },
   "outputs": [],
   "source": [
    "# remember to create and activate the data_env environment first (or install specified libraries in base environment)\n",
    "import os\n",
    "import json\n",
    "import random\n",
    "from itertools import chain, combinations\n",
    "import pandas as pd\n",
    "import numpy as np\n",
    "import pubchempy as pcp\n"
   ]
  },
  {
   "cell_type": "markdown",
   "id": "e4c95395",
   "metadata": {},
   "source": [
    "# Drug response preprocessing"
   ]
  },
  {
   "cell_type": "markdown",
   "id": "b01eb70e",
   "metadata": {},
   "source": [
    "## PAN-CANCER IC and AUC"
   ]
  },
  {
   "cell_type": "code",
   "execution_count": null,
   "id": "f9a0af8c",
   "metadata": {},
   "outputs": [],
   "source": [
    "def preprocess_drug_response(pancancer_gdsc, index='Cell Line Name', columns='Drug Name', ic_values='IC50', auc_values='AUC'):\n",
    "    pancancer_gdsc = pancancer_gdsc.sort_values(by=[index, columns]).drop_duplicates(subset=[index, columns], keep='last') # if a drug was tested more than once on the same cell line, we take the last one (arbitrary decision)\n",
    "    pancancer_ic_gdsc = pancancer_gdsc.pivot(index=index, columns=columns, values=ic_values).sort_index().sort_index(axis=1)\n",
    "    if auc_values is not None:\n",
    "        pancancer_auc_gdsc = pancancer_gdsc.pivot(index=index, columns=columns, values=auc_values).sort_index().sort_index(axis=1)\n",
    "        return pancancer_ic_gdsc, pancancer_auc_gdsc\n",
    "    return pancancer_ic_gdsc"
   ]
  },
  {
   "cell_type": "code",
   "execution_count": null,
   "id": "016f5c36",
   "metadata": {},
   "outputs": [],
   "source": [
    "# either: https://www.cancerrxgene.org/downloads/genetic_features?screening_set=GDSC2&tissue=PANCANCER&mutation=both\n",
    "# or: https://www.cancerrxgene.org/downloads/bulk_download -> GDSC2-dataset (almost the same, but has a few less measurements)\n",
    "pancancer_gdsc2_raw = pd.read_csv('GDSC_Drug_Data/PANCANCER_IC_GDSC2.csv')\n",
    "pancancer_ic_gdsc2, pancancer_auc_gdsc2 = preprocess_drug_response(pancancer_gdsc2_raw)"
   ]
  },
  {
   "cell_type": "code",
   "execution_count": null,
   "id": "1b67fd6d",
   "metadata": {},
   "outputs": [],
   "source": [
    "pancancer_ic_gdsc2.shape, pancancer_auc_gdsc2.shape"
   ]
  },
  {
   "cell_type": "markdown",
   "id": "c7b77bf1",
   "metadata": {},
   "source": [
    "## PAN-CANCER IC and AUC, but only PubChem drugs"
   ]
  },
  {
   "cell_type": "code",
   "execution_count": null,
   "id": "773189cc",
   "metadata": {},
   "outputs": [],
   "source": [
    "# https://www.cancerrxgene.org/compounds -> select All and Export: CSV\n",
    "drug_list = pd.read_csv('GDSC_Drug_Data/Drug_list.csv')\n",
    "drugID_to_pubchemID_dict_raw = drug_list[['Drug Id', ' Name', ' PubCHEM', ' Datasets']].set_index(['Drug Id', ' Name', ' Datasets']).T.to_dict('records')[0]"
   ]
  },
  {
   "cell_type": "code",
   "execution_count": null,
   "id": "6080548d",
   "metadata": {},
   "outputs": [],
   "source": [
    "drugID_to_pubchemID_dict = {}\n",
    "for k, v in drugID_to_pubchemID_dict_raw.items():\n",
    "    if v == v and v != 'none' and v != 'several': # some drugs do not have a PubChem ID listed in Drug_list.csv\n",
    "        v2 = v.split(',')[0] # sometimes, multiple PubChem IDs are listed, of which we just take the first\n",
    "        drugID_to_pubchemID_dict[k] = int(v2)\n",
    "    else: # if v is 'none' or 'several', make them nan so that they will be dropped along with the original nans later\n",
    "        v2 = np.nan\n",
    "        drugID_to_pubchemID_dict[k] = v2"
   ]
  },
  {
   "cell_type": "raw",
   "id": "5f34790f",
   "metadata": {},
   "source": [
    "oldk = [None, None]\n",
    "oldv = None\n",
    "for k, v in drugID_to_pubchemID_dict.items():\n",
    "    if k[1] == oldk[1]:\n",
    "        if oldv != v and oldk[2] != 'GDSC1':\n",
    "            print(oldk, oldv, k, v)\n",
    "    oldk = k\n",
    "    oldv = v"
   ]
  },
  {
   "cell_type": "code",
   "execution_count": null,
   "id": "cfb4e387",
   "metadata": {},
   "outputs": [],
   "source": [
    "# this cell is needed because between GDSC1 and GDSC2, some drug IDs differ while the PubChem IDs are identical\n",
    "# there are also some drugs that are both in GDSC2 and have a different drug ID, but there are no PubChem IDs for them (see previous notebook cell)\n",
    "drugID_to_pubchemID_dict_GDSC2 = {k[0]: v for k, v in drugID_to_pubchemID_dict.items() if k[2] == 'GDSC2'}"
   ]
  },
  {
   "cell_type": "code",
   "execution_count": null,
   "id": "5150cac9",
   "metadata": {},
   "outputs": [],
   "source": [
    "pancancer_gdsc2_pubchem = pancancer_gdsc2_raw.copy()\n",
    "pancancer_gdsc2_pubchem['PubChem ID'] = pancancer_gdsc2_pubchem['Drug ID']\n",
    "pancancer_gdsc2_pubchem = pancancer_gdsc2_pubchem.replace({'PubChem ID': drugID_to_pubchemID_dict_GDSC2}).dropna()\n",
    "pancancer_gdsc2_pubchem['PubChem ID'] = [int(pubchem_id) for pubchem_id in pancancer_gdsc2_pubchem['PubChem ID']]\n",
    "pancancer_ic_pubchem_gdsc2, pancancer_auc_pubchem_gdsc2 = preprocess_drug_response(pancancer_gdsc2_pubchem, columns='PubChem ID')"
   ]
  },
  {
   "cell_type": "code",
   "execution_count": null,
   "id": "9972b660",
   "metadata": {},
   "outputs": [],
   "source": [
    "pancancer_ic_pubchem_gdsc2.shape, pancancer_auc_pubchem_gdsc2.shape"
   ]
  },
  {
   "cell_type": "markdown",
   "id": "77a2fd1d",
   "metadata": {},
   "source": [
    "## Save target files"
   ]
  },
  {
   "cell_type": "code",
   "execution_count": null,
   "id": "ff5f5ea3",
   "metadata": {},
   "outputs": [],
   "source": [
    "if not os.path.exists('../targets'):\n",
    "    os.makedirs('../targets')\n",
    "\n",
    "pancancer_ic_gdsc2.to_csv('../targets/pancancer_ic_gdsc2.csv')\n",
    "pancancer_auc_gdsc2.to_csv('../targets/pancancer_auc_gdsc2.csv')\n",
    "\n",
    "pancancer_ic_pubchem_gdsc2.to_csv('../targets/pancancer_ic_pubchem_gdsc2.csv')\n",
    "pancancer_auc_pubchem_gdsc2.to_csv('../targets/pancancer_auc_pubchem_gdsc2.csv')"
   ]
  },
  {
   "cell_type": "markdown",
   "id": "c1f01498",
   "metadata": {},
   "source": [
    "# Cell-line feature preprocessing"
   ]
  },
  {
   "cell_type": "code",
   "execution_count": null,
   "id": "b6a4c990",
   "metadata": {},
   "outputs": [],
   "source": [
    "# https://www.cancerrxgene.org/downloads/bulk_download -> Download from Cell Model Passports, then you reach the website:\n",
    "# https://cellmodelpassports.sanger.ac.uk/downloads -> Model Annotation -> under Model List, click View all versions\n",
    "model_list = pd.read_csv('Bulk_Cell_line_Genomic_Data/Cell_Model_Passports/Model_Annotation/model_list_20240110.csv')"
   ]
  },
  {
   "cell_type": "markdown",
   "id": "43308fc5",
   "metadata": {},
   "source": [
    "## PAN-CANCER MUT&CNV"
   ]
  },
  {
   "cell_type": "code",
   "execution_count": null,
   "id": "f2ea6843",
   "metadata": {},
   "outputs": [],
   "source": [
    "pancancer_genetic_features_gdsc2_raw = pd.read_csv('GDSC_Genetic_Features/PANCANCER_Genetic_features_GDSC2.csv', low_memory=False) # low_memory=False because columns 'Recurrent Gain Loss' and 'Genes in Segment' throw warning\n",
    "pancancer_genetic_features_gdsc2 = pancancer_genetic_features_gdsc2_raw.pivot(index='Cell Line Name', columns='Genetic Feature', values='IS Mutated')\n",
    "pancancer_genetic_features_gdsc2 = pancancer_genetic_features_gdsc2.dropna()"
   ]
  },
  {
   "cell_type": "code",
   "execution_count": null,
   "id": "f7c04e4b",
   "metadata": {},
   "outputs": [],
   "source": [
    "pancancer_genetic_features_gdsc2.shape"
   ]
  },
  {
   "cell_type": "markdown",
   "id": "25cb3852",
   "metadata": {},
   "source": [
    "## MUT"
   ]
  },
  {
   "cell_type": "code",
   "execution_count": null,
   "id": "988c3a98",
   "metadata": {},
   "outputs": [],
   "source": [
    "# https://cellmodelpassports.sanger.ac.uk/downloads -> Mutation Data -> under Mutations Summary, click View all versions\n",
    "mut_all_raw = pd.read_csv('Bulk_Cell_line_Genomic_Data/Cell_Model_Passports/MUT/mutations_all_20230202.csv')"
   ]
  },
  {
   "cell_type": "code",
   "execution_count": null,
   "id": "ab6ba9f8",
   "metadata": {},
   "outputs": [],
   "source": [
    "mut_all_raw2 = mut_all_raw.copy()\n",
    "mut_all_raw2['is_mutated'] = 1 # all rows stand for a mutation, so we add a new all-1 column 'is_mutated'\n",
    "mut_all_raw2 = mut_all_raw2.drop_duplicates(subset=['gene_symbol', 'model_id'], keep='first') # if one combination has multiple mutations, treat as one mutation\n",
    "mut_all = mut_all_raw2.pivot(index='model_id', columns='gene_symbol', values='is_mutated')\n",
    "mut_all = mut_all.fillna(0).astype(int)\n",
    "model_list_dict = dict(zip(model_list['model_id'], model_list['model_name']))\n",
    "mut_all = mut_all.rename(index=model_list_dict)\n",
    "mut_all = mut_all.sort_index().sort_index(axis=1)\n",
    "mut_all = mut_all.loc[:, (mut_all != 0).any(axis=0)] # drop zero-only columns (but our mut version has none because pivot)\n",
    "mut_all = mut_all.loc[(mut_all != 0).any(axis=1)] # drop zero-only rows (but our mut version has none because pivot)"
   ]
  },
  {
   "cell_type": "code",
   "execution_count": null,
   "id": "2f7bd71e",
   "metadata": {},
   "outputs": [],
   "source": [
    "mut_all.shape"
   ]
  },
  {
   "cell_type": "markdown",
   "id": "ae3bdf2a",
   "metadata": {},
   "source": [
    "## CNV"
   ]
  },
  {
   "cell_type": "code",
   "execution_count": null,
   "id": "95f9556d",
   "metadata": {},
   "outputs": [],
   "source": [
    "# https://cellmodelpassports.sanger.ac.uk/downloads -> Copy Number Data -> under Copy Number (SNP6), click View all versions -> zip contains two files: cnv_gistic_20191101.csv and cnv_abs_copy_number_picnic_20191101.csv\n",
    "# we use cnv_gistic_20191101.csv instead of cnv_abs_copy_number_picnic_20191101.csv because the latter has positive real values, and the numbers have different meanings, see cnv_summary_20230303.csv: 2 is neutral, but sometimes loss, 4 is also neutral, 3 is gain or loss; gistics -2, -1, 0, 1, and 2 are way easier to interpret\n",
    "# (to get cnv_summary_20230303.csv: https://cellmodelpassports.sanger.ac.uk/downloads -> Copy Number Data -> under CNV Summary, click View all versions)\n",
    "cnv_all_raw = pd.read_csv('Bulk_Cell_line_Genomic_Data/Cell_Model_Passports/CNV/cnv_20191101/cnv_gistic_20191101.csv', low_memory=False) # 'low_memory=False' to remove warnings"
   ]
  },
  {
   "cell_type": "code",
   "execution_count": null,
   "id": "83496525",
   "metadata": {},
   "outputs": [],
   "source": [
    "cnv_all_raw2 = cnv_all_raw.T\n",
    "cnv_all_raw2 = cnv_all_raw2.drop(cnv_all_raw2.index[0])\n",
    "cnv_all_raw2.index = cnv_all_raw2.iloc[:, 0]\n",
    "cnv_all_raw2 = cnv_all_raw2.drop(cnv_all_raw2.columns[1], axis=1)\n",
    "cnv_all_raw2 = cnv_all_raw2.drop(cnv_all_raw2.columns[0], axis=1)\n",
    "cnv_all_raw2.columns = cnv_all_raw2.iloc[0]\n",
    "cnv_all_raw2 = cnv_all_raw2.drop(cnv_all_raw2.index[0])\n",
    "cnv_all_raw2.index = [str(s) for s in cnv_all_raw2.index]\n",
    "cnv_all = cnv_all_raw2.sort_index().sort_index(axis=1)\n",
    "cnv_all = cnv_all.loc[:, (cnv_all != 0).any(axis=0)] # drop zero-only columns (but our cnv version has none)\n",
    "cnv_all = cnv_all.loc[(cnv_all != 0).any(axis=1)] # drop zero-only rows (but our cnv version has none)\n",
    "cnv_all = cnv_all.dropna(axis=1) # remove nan columns (removing rows would remove all rows)"
   ]
  },
  {
   "cell_type": "code",
   "execution_count": null,
   "id": "55af9182",
   "metadata": {},
   "outputs": [],
   "source": [
    "cnv_all.shape"
   ]
  },
  {
   "cell_type": "markdown",
   "id": "d8c03279",
   "metadata": {},
   "source": [
    "## EXP"
   ]
  },
  {
   "cell_type": "code",
   "execution_count": null,
   "id": "4bc6d99d",
   "metadata": {},
   "outputs": [],
   "source": [
    "# https://cellmodelpassports.sanger.ac.uk/downloads -> Expression Data -> under RNA-Seq, click View all versions -> zip contains multiple files, of which we chose rnaseq_tpm_20220624.csv because CCLE also uses TPM (but choosing any other file is of course also possible)\n",
    "exp_tpm_raw = pd.read_csv('Bulk_Cell_line_Genomic_Data/Cell_Model_Passports/GE/rnaseq_all_20220624/rnaseq_tpm_20220624.csv', low_memory=False) # 'low_memory=False' to remove warnings"
   ]
  },
  {
   "cell_type": "code",
   "execution_count": null,
   "id": "966042a0",
   "metadata": {},
   "outputs": [],
   "source": [
    "exp_tpm_raw2 = exp_tpm_raw.T\n",
    "exp_tpm_raw2.index = exp_tpm_raw2.iloc[:, 0]\n",
    "exp_tpm_raw2 = exp_tpm_raw2.drop(exp_tpm_raw2.columns[1], axis=1)\n",
    "exp_tpm_raw2.columns = exp_tpm_raw2.iloc[1]\n",
    "exp_tpm_raw2 = exp_tpm_raw2.drop(exp_tpm_raw2.index[0])\n",
    "exp_tpm_raw2 = exp_tpm_raw2.drop(exp_tpm_raw2.columns[0], axis=1)\n",
    "exp_tpm_raw2 = exp_tpm_raw2.drop(exp_tpm_raw2.index[0])\n",
    "exp_tpm_raw2 = exp_tpm_raw2.drop(exp_tpm_raw2.columns[0], axis=1)\n",
    "exp_tpm_raw2 = exp_tpm_raw2.dropna(axis=1)\n",
    "exp_tpm_raw2 = exp_tpm_raw2.astype(float)\n",
    "exp_tpm_raw2 = exp_tpm_raw2.sort_index().sort_index(axis=1)\n",
    "exp_tpm_raw2 = exp_tpm_raw2.loc[:, ~exp_tpm_raw2.columns.duplicated()] # EEF1AKNMT and SEPTIN4 are duplicated columns, we remove them"
   ]
  },
  {
   "cell_type": "code",
   "execution_count": null,
   "id": "002c8b7a",
   "metadata": {},
   "outputs": [],
   "source": [
    "# because CCLE also calculates log2(TPM+1) and we want to compare them\n",
    "# after running this notebook cell, both have a similar range of values (0 to 17 and 0 to 19)\n",
    "exp_tpm = np.log2(exp_tpm_raw2 + 1)"
   ]
  },
  {
   "cell_type": "code",
   "execution_count": null,
   "id": "a3e418c6",
   "metadata": {},
   "outputs": [],
   "source": [
    "exp_tpm.shape"
   ]
  },
  {
   "cell_type": "markdown",
   "id": "c4e109a0",
   "metadata": {},
   "source": [
    "## Proteomics"
   ]
  },
  {
   "cell_type": "code",
   "execution_count": null,
   "id": "d5878804",
   "metadata": {},
   "outputs": [],
   "source": [
    "# careful! NaN in input, see two notebook cells below\n",
    "# https://cellmodelpassports.sanger.ac.uk/downloads -> Proteomics -> Download proteomics data -> zip contains multiple files, of which the correct one is Protein_matrix_averaged_20221214.tsv\n",
    "proteomics_raw = pd.read_csv('Bulk_Cell_line_Genomic_Data/Cell_Model_Passports/Proteomics/Protein_matrix_averaged_20221214.tsv', sep='\\t', low_memory=False) # 'low_memory=False' to remove warnings\n",
    "proteomics_raw = proteomics_raw.drop(proteomics_raw.index[1])\n",
    "proteomics_raw = proteomics_raw.drop(proteomics_raw.columns[1], axis=1)\n",
    "proteomics_raw.columns = proteomics_raw.iloc[0]\n",
    "proteomics_raw = proteomics_raw.drop(proteomics_raw.index[0])\n",
    "proteomics_raw.index = proteomics_raw.iloc[:, 0]\n",
    "proteomics_raw = proteomics_raw.drop(proteomics_raw.columns[0], axis=1)\n",
    "proteomics = proteomics_raw.sort_index().sort_index(axis=1)"
   ]
  },
  {
   "cell_type": "code",
   "execution_count": null,
   "id": "364f952b",
   "metadata": {},
   "outputs": [],
   "source": [
    "proteomics.shape"
   ]
  },
  {
   "cell_type": "code",
   "execution_count": null,
   "id": "453bbc49",
   "metadata": {},
   "outputs": [],
   "source": [
    "(proteomics != proteomics).sum().sum()/(proteomics.shape[0]*proteomics.shape[1])\n",
    "# 38.6 % NaNs, probably unfit for ANNs as they cannot just be imputed with 0 because NaN means the q-value is high, indicating unreliable protein abundance measurements"
   ]
  },
  {
   "cell_type": "markdown",
   "id": "7b807b31",
   "metadata": {},
   "source": [
    "## Save feature files"
   ]
  },
  {
   "cell_type": "code",
   "execution_count": null,
   "id": "22064a0e",
   "metadata": {},
   "outputs": [],
   "source": [
    "if not os.path.exists('../features/cell_features'):\n",
    "    os.makedirs('../features/cell_features')\n",
    "\n",
    "# rename features to enable backtracking of feature types\n",
    "mut_all.columns = [i + '.mut' for i in mut_all.columns]\n",
    "cnv_all.columns = [i + '.cnv' for i in cnv_all.columns]\n",
    "exp_tpm.columns = [i + '.exp' for i in exp_tpm.columns]\n",
    "\n",
    "pancancer_genetic_features_gdsc2.to_csv('../features/cell_features/pancancer_genetic_features_gdsc2.csv')\n",
    "mut_all.to_csv('../features/cell_features/mut_all.csv')\n",
    "cnv_all.to_csv('../features/cell_features/cnv_all.csv')\n",
    "exp_tpm.to_csv('../features/cell_features/exp_tpm.csv')"
   ]
  },
  {
   "cell_type": "code",
   "execution_count": null,
   "id": "03ae9f09",
   "metadata": {},
   "outputs": [],
   "source": [
    "mut_all_shuffled_numpy = mut_all.values\n",
    "cnv_all_shuffled_numpy = cnv_all.values\n",
    "exp_tpm_shuffled_numpy = exp_tpm.values\n",
    "\n",
    "mut_all_shuffled_numpy = mut_all_shuffled_numpy.flatten()\n",
    "cnv_all_shuffled_numpy = cnv_all_shuffled_numpy.flatten()\n",
    "exp_tpm_shuffled_numpy = exp_tpm_shuffled_numpy.flatten()\n",
    "\n",
    "np.random.shuffle(mut_all_shuffled_numpy)\n",
    "np.random.shuffle(cnv_all_shuffled_numpy)\n",
    "np.random.shuffle(exp_tpm_shuffled_numpy)\n",
    "\n",
    "mut_all_shuffled_numpy = mut_all_shuffled_numpy.reshape(mut_all.shape)\n",
    "cnv_all_shuffled_numpy = cnv_all_shuffled_numpy.reshape(cnv_all.shape)\n",
    "exp_tpm_shuffled_numpy = exp_tpm_shuffled_numpy.reshape(exp_tpm.shape)\n",
    "\n",
    "mut_all_shuffled = pd.DataFrame(mut_all_shuffled_numpy, index=mut_all.index, columns=mut_all.columns)\n",
    "cnv_all_shuffled = pd.DataFrame(cnv_all_shuffled_numpy, index=cnv_all.index, columns=cnv_all.columns)\n",
    "exp_tpm_shuffled = pd.DataFrame(exp_tpm_shuffled_numpy, index=exp_tpm.index, columns=exp_tpm.columns)"
   ]
  },
  {
   "cell_type": "code",
   "execution_count": null,
   "id": "5d34e26f",
   "metadata": {},
   "outputs": [],
   "source": [
    "mut_all_shuffled.to_csv('../features/cell_features/mut_all_shuffled.csv')\n",
    "cnv_all_shuffled.to_csv('../features/cell_features/cnv_all_shuffled.csv')\n",
    "exp_tpm_shuffled.to_csv('../features/cell_features/exp_tpm_shuffled.csv')"
   ]
  },
  {
   "cell_type": "markdown",
   "id": "a87f7d05",
   "metadata": {},
   "source": [
    "# Save shared cell lines between all possible data subsets"
   ]
  },
  {
   "cell_type": "code",
   "execution_count": null,
   "id": "217b2f15",
   "metadata": {},
   "outputs": [],
   "source": [
    "def powerset_without_empty_set(iterable):\n",
    "    s = sorted(iterable) # must be alphabetically ordered for config.yaml\n",
    "    return list(chain.from_iterable(combinations(s, r) for r in range(len(s)+1)))[1:]"
   ]
  },
  {
   "cell_type": "code",
   "execution_count": null,
   "id": "f8bedde9",
   "metadata": {},
   "outputs": [],
   "source": [
    "if not os.path.exists('../features/shared_cell_lines'):\n",
    "    os.makedirs('../features/shared_cell_lines')\n",
    "\n",
    "pancancer_ic_gdsc2_cell_lines = set(pancancer_ic_gdsc2.index)\n",
    "pancancer_auc_gdsc2_cell_lines = set(pancancer_auc_gdsc2.index)\n",
    "pancancer_ic_pubchem_gdsc2_cell_lines = set(pancancer_ic_pubchem_gdsc2.index)\n",
    "pancancer_auc_pubchem_gdsc2_cell_lines = set(pancancer_auc_pubchem_gdsc2.index)"
   ]
  },
  {
   "cell_type": "markdown",
   "id": "61f681bf",
   "metadata": {},
   "source": [
    "## PAN-CANCER MUT&CNV"
   ]
  },
  {
   "cell_type": "code",
   "execution_count": null,
   "id": "d9d13c1b",
   "metadata": {},
   "outputs": [],
   "source": [
    "data = ['pancancer_genetic_features_gdsc2']\n",
    "data_subsets = powerset_without_empty_set(data) # results in 4 files\n",
    "data_dict = dict()\n",
    "for cell_lines in ['pancancer_ic_gdsc2_cell_lines', 'pancancer_auc_gdsc2_cell_lines', 'pancancer_ic_pubchem_gdsc2_cell_lines', 'pancancer_auc_pubchem_gdsc2_cell_lines']:\n",
    "    for subset in data_subsets:\n",
    "        data_dict[subset] = eval(cell_lines)\n",
    "        for dataset in subset:\n",
    "            data_dict[subset] = data_dict[subset].intersection(eval(dataset).index)\n",
    "    for k, v in data_dict.items():\n",
    "        filename = '../features/shared_cell_lines/' + str(k).replace('(', '').replace(')', '').replace('\\'', '').replace(',', '').replace(' ', '-') + '.' + cell_lines + '.json'\n",
    "        with open(filename, 'w') as f:\n",
    "            json.dump(sorted(v), f)\n",
    "        print(filename, len(v))"
   ]
  },
  {
   "cell_type": "markdown",
   "id": "d669a27d",
   "metadata": {},
   "source": [
    "## MUT + CNV + EXP"
   ]
  },
  {
   "cell_type": "code",
   "execution_count": null,
   "id": "c6572665",
   "metadata": {
    "scrolled": true
   },
   "outputs": [],
   "source": [
    "data = ['cnv_all', 'exp_tpm', 'mut_all'] # alphabetical order for config.yaml\n",
    "data_subsets = powerset_without_empty_set(data) # results in 28 files\n",
    "data_dict = dict()\n",
    "\n",
    "for cell_lines in ['pancancer_ic_gdsc2_cell_lines', 'pancancer_auc_gdsc2_cell_lines', 'pancancer_ic_pubchem_gdsc2_cell_lines', 'pancancer_auc_pubchem_gdsc2_cell_lines']:\n",
    "    for subset in data_subsets:\n",
    "        data_dict[subset] = eval(cell_lines)\n",
    "        for dataset in subset:\n",
    "            data_dict[subset] = data_dict[subset].intersection(eval(dataset).index)\n",
    "    for k, v in data_dict.items():\n",
    "        filename = '../features/shared_cell_lines/' + str(k).replace('(', '').replace(')', '').replace('\\'', '').replace(',', '').replace(' ', '-') + '.' + cell_lines + '.json'\n",
    "        with open(filename, 'w') as f:\n",
    "            json.dump(sorted(v), f)\n",
    "        print(filename, len(v))"
   ]
  },
  {
   "cell_type": "code",
   "execution_count": null,
   "id": "8140a8d9",
   "metadata": {},
   "outputs": [],
   "source": [
    "data = ['cnv_all_shuffled', 'exp_tpm_shuffled', 'mut_all_shuffled'] # alphabetical order for config.yaml\n",
    "data_subsets = powerset_without_empty_set(data) # results in 28 files\n",
    "data_dict = dict()\n",
    "\n",
    "for cell_lines in ['pancancer_ic_gdsc2_cell_lines', 'pancancer_auc_gdsc2_cell_lines', 'pancancer_ic_pubchem_gdsc2_cell_lines', 'pancancer_auc_pubchem_gdsc2_cell_lines']:\n",
    "    for subset in data_subsets:\n",
    "        data_dict[subset] = eval(cell_lines)\n",
    "        for dataset in subset:\n",
    "            data_dict[subset] = data_dict[subset].intersection(eval(dataset).index)\n",
    "    for k, v in data_dict.items():\n",
    "        filename = '../features/shared_cell_lines/' + str(k).replace('(', '').replace(')', '').replace('\\'', '').replace(',', '').replace(' ', '-') + '.' + cell_lines + '.json'\n",
    "        with open(filename, 'w') as f:\n",
    "            json.dump(sorted(v), f)\n",
    "        print(filename, len(v))"
   ]
  },
  {
   "cell_type": "markdown",
   "id": "08ca7fcb",
   "metadata": {},
   "source": [
    "# Create SMILES file for GNNs"
   ]
  },
  {
   "cell_type": "code",
   "execution_count": null,
   "id": "dc858b21",
   "metadata": {},
   "outputs": [],
   "source": [
    "pubchemID_to_name_dict_GDSC2 = {v: k[1] for k, v in drugID_to_pubchemID_dict.items() if k[2] == 'GDSC2'}\n",
    "name_to_pubchemID_dict_GDSC2 = {k[1]: v for k, v in drugID_to_pubchemID_dict.items() if k[2] == 'GDSC2'}"
   ]
  },
  {
   "cell_type": "code",
   "execution_count": null,
   "id": "ef5d2e3a",
   "metadata": {},
   "outputs": [],
   "source": [
    "if not os.path.exists('../features/drug_smiles'):\n",
    "    os.makedirs('../features/drug_smiles')"
   ]
  },
  {
   "cell_type": "code",
   "execution_count": null,
   "id": "e8af9221",
   "metadata": {},
   "outputs": [],
   "source": [
    "smiles_gdsc2 = []\n",
    "for drug in pancancer_ic_pubchem_gdsc2.columns:\n",
    "    d = pcp.Compound.from_cid(drug)\n",
    "    name = pubchemID_to_name_dict_GDSC2[drug]\n",
    "    smiles_gdsc2.append([name, drug, d.canonical_smiles, d.isomeric_smiles])"
   ]
  },
  {
   "cell_type": "code",
   "execution_count": null,
   "id": "9b6dd1d8",
   "metadata": {},
   "outputs": [],
   "source": [
    "# the resulting file drug_smiles_GDSC2.csv could also be used for the 9 drugs below from CCLE that overlap with GDSC2\n",
    "with open('../features/drug_smiles/drug_smiles_GDSC2.csv', 'w') as f:\n",
    "    f.write('name,CID,CanonicalSMILES,IsomericSMILES\\n')\n",
    "    for line in smiles_gdsc2:\n",
    "        f.write(f'{line[0]},{line[1]},{line[2]},{line[3]}\\n')"
   ]
  },
  {
   "cell_type": "code",
   "execution_count": null,
   "id": "1e29f068",
   "metadata": {},
   "outputs": [],
   "source": [
    "# the file resulting from this cell was not used in the paper\n",
    "random.seed(0)\n",
    "\n",
    "# shuffle line[2] and line[3]\n",
    "last_two_columns = [sublist[2:] for sublist in smiles_gdsc2]\n",
    "random.shuffle(last_two_columns)\n",
    "for i, sublist in enumerate(smiles_gdsc2):\n",
    "    sublist[2:] = last_two_columns[i]\n",
    "\n",
    "with open('../features/drug_smiles/drug_smiles_GDSC2_shuffled.csv', 'w') as f:\n",
    "    f.write('name,CID,CanonicalSMILES,IsomericSMILES\\n')\n",
    "    for line in smiles_gdsc2:\n",
    "        f.write(f'{line[0]},{line[1]},{line[2]},{line[3]}\\n')"
   ]
  },
  {
   "cell_type": "markdown",
   "id": "418b37cd",
   "metadata": {},
   "source": [
    "# CCLE drug response"
   ]
  },
  {
   "cell_type": "code",
   "execution_count": null,
   "id": "9b8a8244",
   "metadata": {},
   "outputs": [],
   "source": [
    "# https://depmap.org/portal/data_page/?tab=allData -> Select a file set to view: Pharmacological Profiling\n",
    "ccle_ic_raw = pd.read_csv('CCLE_Data/CCLE_NP24.2009_Drug_data_2015.02.24.csv', index_col=0)"
   ]
  },
  {
   "cell_type": "code",
   "execution_count": null,
   "id": "28cd1e30",
   "metadata": {},
   "outputs": [],
   "source": [
    "ccle_ic = ccle_ic_raw.pivot(index='Primary Cell Line Name', columns='Compound', values='IC50 (uM)').sort_index().sort_index(axis=1)"
   ]
  },
  {
   "cell_type": "code",
   "execution_count": null,
   "id": "95e04297",
   "metadata": {},
   "outputs": [],
   "source": [
    "ccle_ic.shape"
   ]
  },
  {
   "cell_type": "markdown",
   "id": "8688a775",
   "metadata": {},
   "source": [
    "# Create SMILES file for GNNs"
   ]
  },
  {
   "cell_type": "code",
   "execution_count": null,
   "id": "f03b46a9",
   "metadata": {},
   "outputs": [],
   "source": [
    "smiles_ccle = []\n",
    "ccle_names_to_cid_dict = {} # used later in last notebook cell\n",
    "for name in ccle_ic.columns:\n",
    "    d = pcp.get_compounds(name, 'name')[0]\n",
    "    ccle_names_to_cid_dict[name] = d.cid\n",
    "    smiles_ccle.append([name, d.cid, d.canonical_smiles, d.isomeric_smiles])"
   ]
  },
  {
   "cell_type": "code",
   "execution_count": null,
   "id": "e5ba657f",
   "metadata": {},
   "outputs": [],
   "source": [
    "with open('../features/drug_smiles/drug_smiles_CCLE.csv', 'w') as f:\n",
    "    f.write('name,CID,CanonicalSMILES,IsomericSMILES\\n')\n",
    "    for line in smiles_ccle:\n",
    "        f.write(f'{line[0]},{line[1]},{line[2]},{line[3]}\\n')"
   ]
  },
  {
   "cell_type": "markdown",
   "id": "a3f8971e",
   "metadata": {},
   "source": [
    "# CCLE multi-omics data (24Q2)"
   ]
  },
  {
   "cell_type": "code",
   "execution_count": null,
   "id": "10477d27",
   "metadata": {},
   "outputs": [],
   "source": [
    "# https://depmap.org/portal/data_page/?tab=allData -> Select a file set to view: DepMap Public, Version: DepMap Public 24Q2\n",
    "cell_mapping_raw = pd.read_csv('CCLE_Data/Model.csv')"
   ]
  },
  {
   "cell_type": "code",
   "execution_count": null,
   "id": "d63af278",
   "metadata": {},
   "outputs": [],
   "source": [
    "cell_mapping = cell_mapping_raw[['ModelID', 'StrippedCellLineName']].set_index(['ModelID']).T.to_dict('records')[0]"
   ]
  },
  {
   "cell_type": "raw",
   "id": "189a6bd6",
   "metadata": {},
   "source": [
    "Removing all spaces and special characters (stripping) has problems with the following cell lines in CCLE:\n",
    "ACH-000815 KM-H2 # also appears in GDSC2 omics and drug data\n",
    "ACH-002397 KMH-2 # also appears in GDSC2 omics and drug data\n",
    "ACH-000561 T.T # also appears in GDSC2 omics data as T-T # is renamed to TDOTT because of cell_mapping's StrippedCellLineName\n",
    "ACH-001321 TT # also appears in GDSC2 omics and drug data\n",
    "ACH-001131 MS-1 # also appears in GDSC2 omics and drug data\n",
    "ACH-001958 MS1"
   ]
  },
  {
   "cell_type": "code",
   "execution_count": null,
   "id": "9c954b19",
   "metadata": {},
   "outputs": [],
   "source": [
    "# to solve the problems mentioned in the previous notebook cell\n",
    "pancancer_ic_gdsc2_renamed = pancancer_ic_gdsc2.rename(index={'KM-H2': 'KMH2', 'KMH-2': 'KMHDASH2', 'MS-1': 'MSDASH1'}).sort_index().sort_index(axis=1)\n",
    "mut_all_renamed = mut_all.rename(index={'KM-H2': 'KMH2', 'KMH-2': 'KMHDASH2', 'MS-1': 'MSDASH1', 'T-T': 'TDOTT'}).sort_index().sort_index(axis=1)\n",
    "cnv_all_renamed = cnv_all.rename(index={'KM-H2': 'KMH2', 'KMH-2': 'KMHDASH2', 'MS-1': 'MSDASH1', 'T-T': 'TDOTT'}).sort_index().sort_index(axis=1)\n",
    "exp_tpm_renamed = exp_tpm.rename(index={'KM-H2': 'KMH2', 'KMH-2': 'KMHDASH2', 'MS-1': 'MSDASH1', 'T-T': 'TDOTT'}).sort_index().sort_index(axis=1)"
   ]
  },
  {
   "cell_type": "code",
   "execution_count": null,
   "id": "68b2aff2",
   "metadata": {},
   "outputs": [],
   "source": [
    "ccle_mut_raw = pd.read_csv('CCLE_Data/OmicsSomaticMutations.csv', index_col=0, low_memory=False)\n",
    "ccle_exp_raw = pd.read_csv('CCLE_Data/OmicsExpressionProteinCodingGenesTPMLogp1.csv', index_col=0, low_memory=False)\n",
    "ccle_cnv_raw = pd.read_csv('CCLE_Data/OmicsCNGene.csv', index_col=0, low_memory=False)"
   ]
  },
  {
   "cell_type": "code",
   "execution_count": null,
   "id": "91c7741b",
   "metadata": {},
   "outputs": [],
   "source": [
    "ccle_mut_no_duplicates = ccle_mut_raw.drop_duplicates(subset=['ModelID', 'HugoSymbol'], keep='first') # arbitrary choice\n",
    "ccle_mut = ccle_mut_no_duplicates.pivot(index='ModelID', columns='HugoSymbol', values='VariantType').sort_index().sort_index(axis=1)\n",
    "ccle_mut[ccle_mut == ccle_mut] = 1 # treat SNV, insertion, etc. as 1\n",
    "ccle_mut[ccle_mut != ccle_mut] = 0 # treat nan as 0"
   ]
  },
  {
   "cell_type": "code",
   "execution_count": null,
   "id": "1018aa6e",
   "metadata": {},
   "outputs": [],
   "source": [
    "ccle_cnv = ccle_cnv_raw.copy()\n",
    "ccle_cnv = ccle_cnv.dropna(axis=1) # 416 or 31 columns have NaN values, we remove the columns because then we lose less data\n",
    "ccle_cnv.columns = [i.split(' ')[0] for i in ccle_cnv.columns]"
   ]
  },
  {
   "cell_type": "code",
   "execution_count": null,
   "id": "aefdcb1b",
   "metadata": {},
   "outputs": [],
   "source": [
    "ccle_exp = ccle_exp_raw.copy()\n",
    "ccle_exp.columns = [i.split(' ')[0] for i in ccle_exp.columns]"
   ]
  },
  {
   "cell_type": "code",
   "execution_count": null,
   "id": "58db68c6",
   "metadata": {},
   "outputs": [],
   "source": [
    "ccle_mut = ccle_mut.rename(index=cell_mapping).sort_index().sort_index(axis=1)\n",
    "ccle_cnv = ccle_cnv.rename(index=cell_mapping).sort_index().sort_index(axis=1)\n",
    "ccle_exp = ccle_exp.rename(index=cell_mapping).sort_index().sort_index(axis=1)"
   ]
  },
  {
   "cell_type": "code",
   "execution_count": null,
   "id": "45ead7a6",
   "metadata": {},
   "outputs": [],
   "source": [
    "ccle_mut.shape, ccle_cnv.shape, ccle_exp.shape"
   ]
  },
  {
   "cell_type": "markdown",
   "id": "30d23631",
   "metadata": {},
   "source": [
    "# Save shared cell lines between all possible data subsets (was not needed and thus not mentioned in our paper)"
   ]
  },
  {
   "cell_type": "raw",
   "id": "303b0be2",
   "metadata": {},
   "source": [
    "import re\n",
    "\n",
    "for i in ccle_ic.index:\n",
    "    if re.search('[^\\w\\.\\- ()/:_\\[\\]]', i):\n",
    "        print(i)\n",
    "for i in ccle_ic.columns:\n",
    "    if re.search('[^\\w\\.\\- ()/:_\\[\\]]', i):\n",
    "        print(i)\n",
    "for i in ccle_mut.index:\n",
    "    if re.search('[^\\w\\.\\- ()/:_\\[\\]]', i):\n",
    "        print(i)\n",
    "for i in ccle_mut.columns:\n",
    "    if re.search('[^\\w\\.\\- ()/:_\\[\\]]', i):\n",
    "        print(i)\n",
    "for i in ccle_cnv.index:\n",
    "    if re.search('[^\\w\\.\\- ()/:_\\[\\]]', i):\n",
    "        print(i)\n",
    "for i in ccle_cnv.columns:\n",
    "    if re.search('[^\\w\\.\\- ()/:_\\[\\]]', i):\n",
    "        print(i)\n",
    "for i in ccle_exp.index:\n",
    "    if re.search('[^\\w\\.\\- ()/:_\\[\\]]', i):\n",
    "        print(i)\n",
    "for i in ccle_exp.columns:\n",
    "    if re.search('[^\\w\\.\\- ()/:_\\[\\]]', i):\n",
    "        print(i)\n",
    "\n",
    "for i in pancancer_ic_gdsc2_renamed.index:\n",
    "    if re.search('[^\\w\\.\\- ()/:_\\[\\]]', i):\n",
    "        print(i)\n",
    "for i in pancancer_ic_gdsc2_renamed.columns:\n",
    "    if re.search('[^\\w\\.\\- ()/:_\\[\\]]', i):\n",
    "        print(i)\n",
    "for i in mut_all.index:\n",
    "    if re.search('[^\\w\\.\\- ()/:_\\[\\]]', i):\n",
    "        print(i)\n",
    "for i in mut_all.columns:\n",
    "    if re.search('[^\\w\\.\\- ()/:_\\[\\]]', i):\n",
    "        print(i)\n",
    "for i in cnv_all.index:\n",
    "    if re.search('[^\\w\\.\\- ()/:_\\[\\]]', i):\n",
    "        print(i)\n",
    "for i in cnv_all.columns:\n",
    "    if re.search('[^\\w\\.\\- ()/:_\\[\\]]', i):\n",
    "        print(i)\n",
    "for i in exp_tpm.index:\n",
    "    if re.search('[^\\w\\.\\- ()/:_\\[\\]]', i):\n",
    "        print(i)\n",
    "for i in exp_tpm.columns:\n",
    "    if re.search('[^\\w\\.\\- ()/:_\\[\\]]', i):\n",
    "        print(i)"
   ]
  },
  {
   "cell_type": "code",
   "execution_count": null,
   "id": "ed77e28f",
   "metadata": {},
   "outputs": [],
   "source": [
    "# needed because cell lines are not necessarily named the same, but careful, this function might not cover all special characters (but you can find out with the previous notebook cell) or might lead to two names becoming the same (see above, for example KM-H2 and KMH-2)\n",
    "def strip_list_names(a):\n",
    "    return [i.replace('.', '').replace('-', '').replace(' ', '').replace('(', '').replace(')', '').replace('/', '').replace(':', '').replace('_', '').replace('[', '').replace(']', '').upper() for i in a]"
   ]
  },
  {
   "cell_type": "code",
   "execution_count": null,
   "id": "9efb9d1d",
   "metadata": {},
   "outputs": [],
   "source": [
    "ccle_ic.index = strip_list_names(ccle_ic.index)\n",
    "ccle_mut.index = strip_list_names(ccle_mut.index)\n",
    "ccle_cnv.index = strip_list_names(ccle_cnv.index)\n",
    "ccle_exp.index = strip_list_names(ccle_exp.index)"
   ]
  },
  {
   "cell_type": "code",
   "execution_count": null,
   "id": "127afd4e",
   "metadata": {},
   "outputs": [],
   "source": [
    "ccle_ic_cell_lines = set(ccle_ic.index)"
   ]
  },
  {
   "cell_type": "code",
   "execution_count": null,
   "id": "4a244350",
   "metadata": {},
   "outputs": [],
   "source": [
    "data = ['ccle_cnv', 'ccle_exp', 'ccle_mut'] # alphabetical order for config.yaml\n",
    "data_subsets = powerset_without_empty_set(data) # results in 7 files\n",
    "data_dict = dict()\n",
    "for cell_lines in ['ccle_ic_cell_lines']:\n",
    "    for subset in data_subsets:\n",
    "        data_dict[subset] = eval(cell_lines)\n",
    "        for dataset in subset:\n",
    "            data_dict[subset] = data_dict[subset].intersection(eval(dataset).index)\n",
    "    for k, v in data_dict.items():\n",
    "        filename = '../features/shared_cell_lines/' + str(k).replace('(', '').replace(')', '').replace('\\'', '').replace(',', '').replace(' ', '-') + '.' + cell_lines + '.json'\n",
    "        with open(filename, 'w') as f:\n",
    "            json.dump(sorted(v), f)\n",
    "        print(filename, len(v))"
   ]
  },
  {
   "cell_type": "code",
   "execution_count": null,
   "id": "2ec54dc2",
   "metadata": {},
   "outputs": [],
   "source": [
    "# rename features to enable backtracking of feature types\n",
    "ccle_mut.columns = [i + '.mut' for i in ccle_mut.columns]\n",
    "ccle_cnv.columns = [i + '.cnv' for i in ccle_cnv.columns]\n",
    "ccle_exp.columns = [i + '.exp' for i in ccle_exp.columns]\n",
    "\n",
    "ccle_mut.to_csv('../features/cell_features/ccle_mut.csv')\n",
    "ccle_cnv.to_csv('../features/cell_features/ccle_cnv.csv')\n",
    "ccle_exp.to_csv('../features/cell_features/ccle_exp.csv')"
   ]
  },
  {
   "cell_type": "markdown",
   "id": "4629bd03",
   "metadata": {},
   "source": [
    "# Shared cell lines, features, and PubChem drugs of GDSC2 and CCLE"
   ]
  },
  {
   "cell_type": "code",
   "execution_count": null,
   "id": "dc8cbd06",
   "metadata": {},
   "outputs": [],
   "source": [
    "pancancer_ic_gdsc2_stripped = pancancer_ic_gdsc2_renamed.copy()\n",
    "pancancer_ic_gdsc2_stripped.index = strip_list_names(pancancer_ic_gdsc2_stripped.index)\n",
    "pancancer_ic_gdsc2_stripped.columns = strip_list_names(pancancer_ic_gdsc2_stripped.columns)\n",
    "gdsc2_drugnames_dict_before_strip = dict(zip(pancancer_ic_gdsc2_stripped.columns, pancancer_ic_gdsc2_renamed.columns))"
   ]
  },
  {
   "cell_type": "code",
   "execution_count": null,
   "id": "f53ab0ac",
   "metadata": {},
   "outputs": [],
   "source": [
    "mut_all_stripped = mut_all_renamed.copy()\n",
    "mut_all_stripped.index = strip_list_names(mut_all_stripped.index)\n",
    "cnv_all_stripped = cnv_all_renamed.copy()\n",
    "cnv_all_stripped.index = strip_list_names(cnv_all_stripped.index)\n",
    "exp_tpm_stripped = exp_tpm_renamed.copy()\n",
    "exp_tpm_stripped.index = strip_list_names(exp_tpm_stripped.index)"
   ]
  },
  {
   "cell_type": "code",
   "execution_count": null,
   "id": "29620dd7",
   "metadata": {},
   "outputs": [],
   "source": [
    "ccle_ic_stripped = ccle_ic.copy()\n",
    "ccle_ic_stripped.index = strip_list_names(ccle_ic_stripped.index)\n",
    "ccle_ic_stripped.columns = strip_list_names(ccle_ic_stripped.columns)"
   ]
  },
  {
   "cell_type": "code",
   "execution_count": null,
   "id": "cb035da9",
   "metadata": {},
   "outputs": [],
   "source": [
    "ccle_mut_stripped = ccle_mut.copy()\n",
    "ccle_mut_stripped.index = strip_list_names(ccle_mut_stripped.index)\n",
    "ccle_cnv_stripped = ccle_cnv.copy()\n",
    "ccle_cnv_stripped.index = strip_list_names(ccle_cnv_stripped.index)\n",
    "ccle_exp_stripped = ccle_exp.copy()\n",
    "ccle_exp_stripped.index = strip_list_names(ccle_exp_stripped.index)"
   ]
  },
  {
   "cell_type": "code",
   "execution_count": null,
   "id": "c98cefa7",
   "metadata": {},
   "outputs": [],
   "source": [
    "# only for examine_data.ipynb: gdsc2 dataset with IC50 capped at maximum tested dose\n",
    "# almost no difference to uncapped dataset, thus we did not mention it in our paper\n",
    "pancancer_gdsc2_raw_capped = pancancer_gdsc2_raw.copy()\n",
    "pancancer_gdsc2_raw_capped.loc[pancancer_gdsc2_raw_capped['IC50'] > pancancer_gdsc2_raw_capped['Max Conc'], 'IC50'] = pancancer_gdsc2_raw_capped.loc[pancancer_gdsc2_raw_capped['IC50'] > pancancer_gdsc2_raw_capped['Max Conc'], 'Max Conc']\n",
    "pancancer_ic_gdsc2_capped = preprocess_drug_response(pancancer_gdsc2_raw_capped, auc_values=None)\n",
    "pancancer_ic_gdsc2_capped_renamed = pancancer_ic_gdsc2_capped.rename(index={'KM-H2': 'KMH2', 'KMH-2': 'KMHDASH2', 'MS-1': 'MSDASH1'}).sort_index().sort_index(axis=1)\n",
    "pancancer_ic_gdsc2_capped_stripped = pancancer_ic_gdsc2_capped_renamed.copy()\n",
    "pancancer_ic_gdsc2_capped_stripped.index = strip_list_names(pancancer_ic_gdsc2_capped_stripped.index)\n",
    "pancancer_ic_gdsc2_capped_stripped.columns = strip_list_names(pancancer_ic_gdsc2_capped_stripped.columns)"
   ]
  },
  {
   "cell_type": "code",
   "execution_count": null,
   "id": "204b9492",
   "metadata": {},
   "outputs": [],
   "source": [
    "shared_rows_ic = sorted(set(ccle_ic_stripped.index).intersection(set(pancancer_ic_gdsc2_stripped.index)))\n",
    "shared_cols_ic = set(ccle_ic_stripped.columns).intersection(set(pancancer_ic_gdsc2_stripped.columns))\n",
    "\n",
    "# only keep pubchem drugs because we want to compare with TGSA (which requires pubchem drugs)\n",
    "no_pubchemID = set()\n",
    "drugname_to_pubchemID = {}\n",
    "for c in shared_cols_ic:\n",
    "    drug_names_drug_ID = pancancer_gdsc2_raw[['Drug Name', 'Drug ID']]\n",
    "    drug_names_drug_ID.loc[:, 'Drug Name'] = strip_list_names(drug_names_drug_ID.loc[:, 'Drug Name'])\n",
    "    drug_names_drug_ID = drug_names_drug_ID.sort_values(by=['Drug Name', 'Drug ID']).drop_duplicates(subset=['Drug Name'], keep='last') # arbitrary decision\n",
    "    for dn, di in zip(drug_names_drug_ID['Drug Name'], drug_names_drug_ID['Drug ID']):\n",
    "        if c == dn:\n",
    "            if drugID_to_pubchemID_dict_GDSC2[di] != drugID_to_pubchemID_dict_GDSC2[di]:\n",
    "                no_pubchemID = no_pubchemID.union([c])\n",
    "            else:\n",
    "                drugname_to_pubchemID[c] = drugID_to_pubchemID_dict_GDSC2[di]\n",
    "shared_cols_ic = shared_cols_ic - no_pubchemID\n",
    "shared_cols_ic = sorted(shared_cols_ic)"
   ]
  },
  {
   "cell_type": "code",
   "execution_count": null,
   "id": "bf634447",
   "metadata": {},
   "outputs": [],
   "source": [
    "shared_rows_mut = sorted(set(ccle_mut_stripped.index).intersection(set(mut_all_stripped.index)))\n",
    "shared_cols_mut = sorted(set(ccle_mut_stripped.columns).intersection(set(mut_all_stripped.columns)))\n",
    "shared_rows_cnv = sorted(set(ccle_cnv_stripped.index).intersection(set(cnv_all_stripped.index)))\n",
    "shared_cols_cnv = sorted(set(ccle_cnv_stripped.columns).intersection(set(cnv_all_stripped.columns)))\n",
    "shared_rows_exp = sorted(set(ccle_exp_stripped.index).intersection(set(exp_tpm_stripped.index)))\n",
    "shared_cols_exp = sorted(set(ccle_exp_stripped.columns).intersection(set(exp_tpm_stripped.columns)))"
   ]
  },
  {
   "cell_type": "code",
   "execution_count": null,
   "id": "bc99068c",
   "metadata": {},
   "outputs": [],
   "source": [
    "len(shared_rows_ic), len(shared_cols_ic), len(shared_rows_mut), len(shared_cols_mut), len(shared_rows_cnv), len(shared_cols_cnv), len(shared_rows_exp), len(shared_cols_exp)"
   ]
  },
  {
   "cell_type": "code",
   "execution_count": null,
   "id": "44f17e78",
   "metadata": {},
   "outputs": [],
   "source": [
    "gdsc2_ic_shared_with_ccle = pancancer_ic_gdsc2_stripped.loc[shared_rows_ic, shared_cols_ic].sort_index().sort_index(axis=1)\n",
    "ccle_ic_shared_with_gdsc2 = ccle_ic_stripped.loc[shared_rows_ic, shared_cols_ic].sort_index().sort_index(axis=1)\n",
    "gdsc2_ic_shared_with_ccle.columns = pd.Series(name_to_pubchemID_dict_GDSC2, dtype=str)[pd.Series(gdsc2_drugnames_dict_before_strip)[gdsc2_ic_shared_with_ccle.columns]]\n",
    "ccle_ic_shared_with_gdsc2.columns = pd.Series(name_to_pubchemID_dict_GDSC2, dtype=str)[pd.Series(gdsc2_drugnames_dict_before_strip)[ccle_ic_shared_with_gdsc2.columns]]\n",
    "\n",
    "# only for examine_data.ipynb\n",
    "gdsc2_ic_capped_shared_with_ccle = pancancer_ic_gdsc2_capped_stripped.loc[shared_rows_ic, shared_cols_ic].sort_index().sort_index(axis=1)"
   ]
  },
  {
   "cell_type": "code",
   "execution_count": null,
   "id": "fffd957a",
   "metadata": {},
   "outputs": [],
   "source": [
    "gdsc2_mut_shared_with_ccle = mut_all_stripped.loc[shared_rows_mut, shared_cols_mut].sort_index().sort_index(axis=1)\n",
    "ccle_mut_shared_with_gdsc2 = ccle_mut_stripped.loc[shared_rows_mut, shared_cols_mut].sort_index().sort_index(axis=1)\n",
    "gdsc2_cnv_shared_with_ccle = cnv_all_stripped.loc[shared_rows_cnv, shared_cols_cnv].sort_index().sort_index(axis=1)\n",
    "ccle_cnv_shared_with_gdsc2 = ccle_cnv_stripped.loc[shared_rows_cnv, shared_cols_cnv].sort_index().sort_index(axis=1)\n",
    "gdsc2_exp_shared_with_ccle = exp_tpm_stripped.loc[shared_rows_exp, shared_cols_exp].sort_index().sort_index(axis=1)\n",
    "ccle_exp_shared_with_gdsc2 = ccle_exp_stripped.loc[shared_rows_exp, shared_cols_exp].sort_index().sort_index(axis=1)"
   ]
  },
  {
   "cell_type": "code",
   "execution_count": null,
   "id": "9cdb78af",
   "metadata": {},
   "outputs": [],
   "source": [
    "print(gdsc2_ic_shared_with_ccle.shape, ccle_ic_shared_with_gdsc2.shape)\n",
    "print(gdsc2_mut_shared_with_ccle.shape, ccle_mut_shared_with_gdsc2.shape)\n",
    "print(gdsc2_cnv_shared_with_ccle.shape, ccle_cnv_shared_with_gdsc2.shape)\n",
    "print(gdsc2_exp_shared_with_ccle.shape, ccle_exp_shared_with_gdsc2.shape)"
   ]
  },
  {
   "cell_type": "code",
   "execution_count": null,
   "id": "39a4b03c",
   "metadata": {},
   "outputs": [],
   "source": [
    "gdsc2_ic_shared_with_ccle_cell_lines = set(gdsc2_ic_shared_with_ccle.index)\n",
    "ccle_ic_shared_with_gdsc2_cell_lines = set(ccle_ic_shared_with_gdsc2.index)"
   ]
  },
  {
   "cell_type": "code",
   "execution_count": null,
   "id": "e4277fb1",
   "metadata": {},
   "outputs": [],
   "source": [
    "data = ['gdsc2_cnv_shared_with_ccle', 'gdsc2_exp_shared_with_ccle', 'gdsc2_mut_shared_with_ccle'] # alphabetical order for config.yaml\n",
    "data_subsets = powerset_without_empty_set(data) # results in 7 files\n",
    "data_dict = dict()\n",
    "for cell_lines in ['gdsc2_ic_shared_with_ccle_cell_lines']:\n",
    "    for subset in data_subsets:\n",
    "        data_dict[subset] = eval(cell_lines)\n",
    "        for dataset in subset:\n",
    "            data_dict[subset] = data_dict[subset].intersection(eval(dataset).index)\n",
    "    for k, v in data_dict.items():\n",
    "        filename = '../features/shared_cell_lines/' + str(k).replace('(', '').replace(')', '').replace('\\'', '').replace(',', '').replace(' ', '-') + '.' + cell_lines + '.json'\n",
    "        with open(filename, 'w') as f:\n",
    "            json.dump(sorted(v), f)\n",
    "        print(filename, len(v))"
   ]
  },
  {
   "cell_type": "code",
   "execution_count": null,
   "id": "f21daaab",
   "metadata": {},
   "outputs": [],
   "source": [
    "data = ['ccle_cnv_shared_with_gdsc2', 'ccle_exp_shared_with_gdsc2', 'ccle_mut_shared_with_gdsc2'] # alphabetical order for config.yaml\n",
    "data_subsets = powerset_without_empty_set(data) # results in 7 files\n",
    "data_dict = dict()\n",
    "for cell_lines in ['ccle_ic_shared_with_gdsc2_cell_lines']:\n",
    "    for subset in data_subsets:\n",
    "        data_dict[subset] = eval(cell_lines)\n",
    "        for dataset in subset:\n",
    "            data_dict[subset] = data_dict[subset].intersection(eval(dataset).index)\n",
    "    for k, v in data_dict.items():\n",
    "        filename = '../features/shared_cell_lines/' + str(k).replace('(', '').replace(')', '').replace('\\'', '').replace(',', '').replace(' ', '-') + '.' + cell_lines + '.json'\n",
    "        with open(filename, 'w') as f:\n",
    "            json.dump(sorted(v), f)\n",
    "        print(filename, len(v))"
   ]
  },
  {
   "cell_type": "code",
   "execution_count": null,
   "id": "77393d48",
   "metadata": {},
   "outputs": [],
   "source": [
    "gdsc2_ic_shared_with_ccle.to_csv('../targets/gdsc2_ic_shared_with_ccle.csv')\n",
    "gdsc2_mut_shared_with_ccle.to_csv('../features/cell_features/gdsc2_mut_shared_with_ccle.csv')\n",
    "gdsc2_cnv_shared_with_ccle.to_csv('../features/cell_features/gdsc2_cnv_shared_with_ccle.csv')\n",
    "gdsc2_exp_shared_with_ccle.to_csv('../features/cell_features/gdsc2_exp_shared_with_ccle.csv')\n",
    "\n",
    "ccle_ic_shared_with_gdsc2.to_csv('../targets/ccle_ic_shared_with_gdsc2.csv')\n",
    "ccle_mut_shared_with_gdsc2.to_csv('../features/cell_features/ccle_mut_shared_with_gdsc2.csv')\n",
    "ccle_cnv_shared_with_gdsc2.to_csv('../features/cell_features/ccle_cnv_shared_with_gdsc2.csv')\n",
    "ccle_exp_shared_with_gdsc2.to_csv('../features/cell_features/ccle_exp_shared_with_gdsc2.csv')\n",
    "\n",
    "# only for examine_data.ipynb\n",
    "gdsc2_ic_capped_shared_with_ccle.to_csv('../targets/gdsc2_ic_capped_shared_with_ccle.csv')"
   ]
  },
  {
   "cell_type": "markdown",
   "id": "7b2726a9",
   "metadata": {},
   "source": [
    "# Prepare TGDRP/TGSA data"
   ]
  },
  {
   "cell_type": "code",
   "execution_count": null,
   "id": "17a1365b",
   "metadata": {},
   "outputs": [],
   "source": [
    "cosmic_706_cancer_related_geneIDs = pd.read_csv('TGSA_Data/mu.csv', index_col=0) # does not matter which file we use because mu.csv has the same columns as cn.csv and exp.csv\n",
    "enterez_NCBI_to_hugo_gene_symbol = pd.read_csv('TGSA_Data/enterez_NCBI_to_hugo_gene_symbol_march_2019.txt', sep='\\t').dropna()\n",
    "ID_to_name_dict = dict(zip(['(' + str(i) + ')' for i in enterez_NCBI_to_hugo_gene_symbol['NCBI Gene ID(supplied by NCBI)'].astype(int)], [i.split('~')[0] for i in enterez_NCBI_to_hugo_gene_symbol['Approved symbol']]))\n",
    "cosmic_706_cancer_related_genes = sorted(cosmic_706_cancer_related_geneIDs.rename(columns=ID_to_name_dict).columns)"
   ]
  },
  {
   "cell_type": "code",
   "execution_count": null,
   "id": "c379776b",
   "metadata": {},
   "outputs": [],
   "source": [
    "mut_all.columns = [i[:-4] for i in mut_all.columns]\n",
    "cnv_all.columns = [i[:-4] for i in cnv_all.columns]\n",
    "exp_tpm.columns = [i[:-4] for i in exp_tpm.columns]\n",
    "cosmic_cancer_related_genes_gdsc = sorted(set(cosmic_706_cancer_related_genes).intersection(set(mut_all.columns)).intersection(set(cnv_all.columns)).intersection(set(exp_tpm.columns)))"
   ]
  },
  {
   "cell_type": "code",
   "execution_count": null,
   "id": "c8827ea4",
   "metadata": {},
   "outputs": [],
   "source": [
    "with open('../features/cosmic_cancer_related_genes_gdsc.json', 'w') as f:\n",
    "    json.dump(cosmic_cancer_related_genes_gdsc, f)"
   ]
  },
  {
   "cell_type": "code",
   "execution_count": null,
   "id": "428a0790",
   "metadata": {},
   "outputs": [],
   "source": [
    "ccle_mut.columns = [i[:-4] for i in ccle_mut.columns]\n",
    "ccle_cnv.columns = [i[:-4] for i in ccle_cnv.columns]\n",
    "ccle_exp.columns = [i[:-4] for i in ccle_exp.columns]\n",
    "cosmic_cancer_related_genes_ccle = sorted(set(cosmic_706_cancer_related_genes).intersection(set(ccle_mut.columns)).intersection(set(ccle_cnv.columns)).intersection(set(ccle_exp.columns)))"
   ]
  },
  {
   "cell_type": "code",
   "execution_count": null,
   "id": "97913ce1",
   "metadata": {},
   "outputs": [],
   "source": [
    "with open('../features/cosmic_cancer_related_genes_ccle.json', 'w') as f:\n",
    "    json.dump(cosmic_cancer_related_genes_ccle, f)"
   ]
  },
  {
   "cell_type": "code",
   "execution_count": null,
   "id": "aa336a30",
   "metadata": {},
   "outputs": [],
   "source": [
    "ccle_ic = ccle_ic.rename(columns=ccle_names_to_cid_dict)\n",
    "ccle_ic.to_csv('../targets/ccle_ic.csv')"
   ]
  }
 ],
 "metadata": {
  "kernelspec": {
   "display_name": "data_env",
   "language": "python",
   "name": "data_env"
  },
  "language_info": {
   "codemirror_mode": {
    "name": "ipython",
    "version": 3
   },
   "file_extension": ".py",
   "mimetype": "text/x-python",
   "name": "python",
   "nbconvert_exporter": "python",
   "pygments_lexer": "ipython3",
   "version": "3.9.18"
  }
 },
 "nbformat": 4,
 "nbformat_minor": 5
}
