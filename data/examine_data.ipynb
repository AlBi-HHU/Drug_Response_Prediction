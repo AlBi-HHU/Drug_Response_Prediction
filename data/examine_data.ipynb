{
 "cells": [
  {
   "cell_type": "code",
   "execution_count": null,
   "id": "a39fc04f",
   "metadata": {
    "scrolled": false
   },
   "outputs": [],
   "source": [
    "# remember to create and activate the data_env environment first (or install specified libraries in base environment)\n",
    "# also, run preprocess_data.ipynb first\n",
    "import os\n",
    "import json\n",
    "from collections import defaultdict\n",
    "import pandas as pd\n",
    "import numpy as np\n",
    "import pubchempy as pcp\n",
    "import deepchem as dc\n",
    "from rdkit import Chem\n",
    "from scipy.stats import pearsonr\n",
    "from sklearn.metrics import mean_absolute_error"
   ]
  },
  {
   "cell_type": "code",
   "execution_count": null,
   "id": "ac632172",
   "metadata": {},
   "outputs": [],
   "source": [
    "def concordance_correlation_coefficient(y_true, y_pred):\n",
    "    mean_true = np.mean(y_true)\n",
    "    mean_pred = np.mean(y_pred)\n",
    "    std_true = np.std(y_true)\n",
    "    std_pred = np.std(y_pred)\n",
    "    pearson_correlation_coefficient = pearsonr(y_true, y_pred)[0]\n",
    "    ccc = (2*pearson_correlation_coefficient*std_true*std_pred)/(std_true**2 + std_pred**2 + (mean_true - mean_pred)**2)\n",
    "    return ccc"
   ]
  },
  {
   "cell_type": "markdown",
   "id": "93e9c4c2",
   "metadata": {},
   "source": [
    "# Correlation of duplicated cell-line–drug experiments in GDSC2v8.5"
   ]
  },
  {
   "cell_type": "code",
   "execution_count": null,
   "id": "016f5c36",
   "metadata": {},
   "outputs": [],
   "source": [
    "# either: https://www.cancerrxgene.org/downloads/genetic_features?screening_set=GDSC2&tissue=PANCANCER&mutation=both\n",
    "# or: https://www.cancerrxgene.org/downloads/bulk_download -> GDSC2-dataset (almost the same, but has a few less measurements)\n",
    "pancancer_gdsc2_raw = pd.read_csv('GDSC_Drug_Data/PANCANCER_IC_GDSC2.csv')"
   ]
  },
  {
   "cell_type": "code",
   "execution_count": null,
   "id": "c5c7ee5b",
   "metadata": {},
   "outputs": [],
   "source": [
    "pancancer_gdsc2_raw_duplicate_mask = pancancer_gdsc2_raw.duplicated(subset=['Cell Line Name', 'Drug Name'], keep=False)"
   ]
  },
  {
   "cell_type": "code",
   "execution_count": null,
   "id": "0bb7d0a9",
   "metadata": {},
   "outputs": [],
   "source": [
    "pancancer_gdsc2_raw_ic50 = pancancer_gdsc2_raw[pancancer_gdsc2_raw_duplicate_mask].sort_values(by=['Cell Line Name', 'Drug Name'])[['Cell Line Name', 'Drug Name', 'IC50']]\n",
    "pancancer_gdsc2_raw_auc = pancancer_gdsc2_raw[pancancer_gdsc2_raw_duplicate_mask].sort_values(by=['Cell Line Name', 'Drug Name'])[['Cell Line Name', 'Drug Name', 'AUC']]"
   ]
  },
  {
   "cell_type": "code",
   "execution_count": null,
   "id": "b36fd827",
   "metadata": {},
   "outputs": [],
   "source": [
    "len(pancancer_gdsc2_raw_ic50)/2, len(set(pancancer_gdsc2_raw_ic50['Cell Line Name']))"
   ]
  },
  {
   "cell_type": "raw",
   "id": "70e0f9d1",
   "metadata": {},
   "source": [
    "# just a check if any experiment was conducted three times or more, but this is not the case, so we can just split into two groups for computing mae and pcc\n",
    "c = 0\n",
    "for i in range(1, pancancer_gdsc2_raw_auc.shape[0]):\n",
    "    if pancancer_gdsc2_raw_auc.iloc[i]['Drug Name'] == pancancer_gdsc2_raw_auc.iloc[i-1]['Drug Name'] and pancancer_gdsc2_raw_auc.iloc[i]['Cell Line Name'] == pancancer_gdsc2_raw_auc.iloc[i-1]['Cell Line Name']:\n",
    "        c += 1\n",
    "    else:\n",
    "        c = 0\n",
    "    if c == 2:\n",
    "        print(i, pancancer_gdsc2_raw_auc.iloc[i][['Cell Line Name', 'Drug Name']])"
   ]
  },
  {
   "cell_type": "code",
   "execution_count": null,
   "id": "2f2025e7",
   "metadata": {},
   "outputs": [],
   "source": [
    "duplicate_drugs_ic50_dict = dict()\n",
    "for dn in set(pancancer_gdsc2_raw_ic50['Drug Name']):\n",
    "    duplicate_drugs_ic50_dict[dn] = []\n",
    "for x in pancancer_gdsc2_raw[pancancer_gdsc2_raw_duplicate_mask].groupby(['Drug ID', 'Drug Name']):\n",
    "    duplicate_drugs_ic50_dict[x[0][1]].append(list(x[1].sort_values(by='Cell Line Name')['IC50']))"
   ]
  },
  {
   "cell_type": "code",
   "execution_count": null,
   "id": "405159c8",
   "metadata": {
    "scrolled": true
   },
   "outputs": [],
   "source": [
    "cccs = []\n",
    "for k, v in duplicate_drugs_ic50_dict.items():\n",
    "    p = pancancer_gdsc2_raw_ic50[pancancer_gdsc2_raw_ic50['Drug Name'] == k]['IC50']\n",
    "    print(k, concordance_correlation_coefficient(v[0], v[1]), mean_absolute_error(v[0], v[1]), np.std(p))\n",
    "    cccs.append(concordance_correlation_coefficient(v[0], v[1]))"
   ]
  },
  {
   "cell_type": "code",
   "execution_count": null,
   "id": "c5aba2d7",
   "metadata": {},
   "outputs": [],
   "source": [
    "np.mean(cccs), np.std(cccs)"
   ]
  },
  {
   "cell_type": "code",
   "execution_count": null,
   "id": "4b72e403",
   "metadata": {},
   "outputs": [],
   "source": [
    "duplicate_drugs_auc_dict = dict()\n",
    "for dn in set(pancancer_gdsc2_raw_auc['Drug Name']):\n",
    "    duplicate_drugs_auc_dict[dn] = []\n",
    "for x in pancancer_gdsc2_raw[pancancer_gdsc2_raw_duplicate_mask].groupby(['Drug ID', 'Drug Name']):\n",
    "    duplicate_drugs_auc_dict[x[0][1]].append(list(x[1].sort_values(by='Cell Line Name')['AUC']))"
   ]
  },
  {
   "cell_type": "code",
   "execution_count": null,
   "id": "e9c5664e",
   "metadata": {},
   "outputs": [],
   "source": [
    "cccs = []\n",
    "for k, v in duplicate_drugs_auc_dict.items():\n",
    "    p = pancancer_gdsc2_raw_auc[pancancer_gdsc2_raw_auc['Drug Name'] == k]['AUC']\n",
    "    print(k, concordance_correlation_coefficient(v[0], v[1]), mean_absolute_error(v[0], v[1]), np.std(p))\n",
    "    cccs.append(concordance_correlation_coefficient(v[0], v[1]))"
   ]
  },
  {
   "cell_type": "code",
   "execution_count": null,
   "id": "e6df66b3",
   "metadata": {},
   "outputs": [],
   "source": [
    "np.mean(cccs), np.std(cccs)"
   ]
  },
  {
   "cell_type": "markdown",
   "id": "02b8fcc6",
   "metadata": {},
   "source": [
    "# Comparison between CCLE (from TGSA paper) and GDSC2v8.5 features (was not needed and thus not mentioned in our paper)"
   ]
  },
  {
   "cell_type": "code",
   "execution_count": null,
   "id": "de907bca",
   "metadata": {},
   "outputs": [],
   "source": [
    "# https://cellmodelpassports.sanger.ac.uk/downloads -> Gene Annotation -> under Gene List, click View all versions\n",
    "gene_annot = pd.read_csv('Bulk_Cell_line_Genomic_Data/Cell_Model_Passports/Gene_Annotation/gene_identifiers_20191101.csv', dtype=object)"
   ]
  },
  {
   "cell_type": "code",
   "execution_count": null,
   "id": "20f0ecde",
   "metadata": {},
   "outputs": [],
   "source": [
    "id2gene_dict = dict(zip(gene_annot['entrez_id'].str.split('.').str[0].map(lambda x: '({})'.format(x)), gene_annot['hgnc_symbol']))"
   ]
  },
  {
   "cell_type": "code",
   "execution_count": null,
   "id": "209d8c14",
   "metadata": {},
   "outputs": [],
   "source": [
    "# file from TGSA paper\n",
    "cell_annot = pd.read_csv('TGSA_Data/PANCANCER_IC_82833_580_170.csv')\n",
    "id2cell_dict = dict(zip(cell_annot['DepMap_ID'], cell_annot['Cell line name']))"
   ]
  },
  {
   "cell_type": "code",
   "execution_count": null,
   "id": "56c77570",
   "metadata": {},
   "outputs": [],
   "source": [
    "# files from TGSA paper\n",
    "mu = pd.read_csv('TGSA_Data/mu.csv', index_col=0).sort_index()\n",
    "cn = pd.read_csv('TGSA_Data/cn.csv', index_col=0).sort_index()\n",
    "ex = pd.read_csv('TGSA_Data/exp.csv', index_col=0).sort_index()"
   ]
  },
  {
   "cell_type": "code",
   "execution_count": null,
   "id": "0cb83701",
   "metadata": {},
   "outputs": [],
   "source": [
    "mu = mu.rename(index=id2cell_dict, columns=id2gene_dict)\n",
    "cn = cn.rename(index=id2cell_dict, columns=id2gene_dict)\n",
    "ex = ex.rename(index=id2cell_dict, columns=id2gene_dict)"
   ]
  },
  {
   "cell_type": "code",
   "execution_count": null,
   "id": "b0f9554a",
   "metadata": {},
   "outputs": [],
   "source": [
    "# to get only the 580 cell lines and 706 genes used in TGSA paper (cn or exp file would have also been possible instead of mu)\n",
    "cell_list = list(mu.index)\n",
    "gene_list = list(mu.columns)"
   ]
  },
  {
   "cell_type": "code",
   "execution_count": null,
   "id": "4c46d7d2",
   "metadata": {},
   "outputs": [],
   "source": [
    "# to get these datasets, run preprocess_data.ipynb\n",
    "mut = pd.read_csv('../features/cell_features/mut_all.csv', index_col=0)\n",
    "cnv = pd.read_csv('../features/cell_features/cnv_all.csv', index_col=0)\n",
    "exp = pd.read_csv('../features/cell_features/exp_tpm.csv', index_col=0)"
   ]
  },
  {
   "cell_type": "code",
   "execution_count": null,
   "id": "1a695b36",
   "metadata": {},
   "outputs": [],
   "source": [
    "mut_renamed = mut.copy()\n",
    "cnv_renamed = cnv.copy()\n",
    "exp_renamed = exp.copy()"
   ]
  },
  {
   "cell_type": "code",
   "execution_count": null,
   "id": "2e91071b",
   "metadata": {},
   "outputs": [],
   "source": [
    "mut_renamed.columns = [i.split('.')[0] for i in mut_renamed.columns]\n",
    "cnv_renamed.columns = [i.split('.')[0] for i in cnv_renamed.columns]\n",
    "exp_renamed.columns = [i.split('.')[0] for i in exp_renamed.columns]"
   ]
  },
  {
   "cell_type": "code",
   "execution_count": null,
   "id": "15ad4483",
   "metadata": {},
   "outputs": [],
   "source": [
    "# the following three notebook cells could have been solved with pandas reindex, not needing the cell_list and gene_list\n",
    "cell_list_mut = list(set(cell_list) - set(['GMS-10', 'HD-MY-Z', 'LS-1034', '42-MG-BA', 'SNU-182', 'VM-CUB-1', 'NCI-H1876', 'SW900', 'CL-34', 'EGI-1'])) # cell lines are in TGSA mu dataset, but not in GDSC2v8.5 mut_all dataset (can be found out by commenting this line out)\n",
    "gene_list_mut = list(set(gene_list) - set(['SEPT9', 'FGFR1OP', 'H3F3A', 'SEPT6', 'MKL1', 'BIVM-ERCC5', 'FAM46C', 'HIST1H4I', 'CARS', 'SEPT5', 'H3F3B'])) # genes are in TGSA mu dataset, but not in GDSC2v8.5 mut_all dataset (can be found out by commenting this line out)\n",
    "mut_only_tgsa_overlaps = mut_renamed.loc[cell_list_mut, gene_list_mut]"
   ]
  },
  {
   "cell_type": "code",
   "execution_count": null,
   "id": "3dd79b50",
   "metadata": {},
   "outputs": [],
   "source": [
    "cell_list_cnv = list(set(cell_list) - set(['697', 'NCI-H2052', 'LS-1034', 'WSU-DLCL2', 'EBC-1', '5637', 'ES-2', 'DND-41', 'Jurkat'])) # cell lines are in TGSA cn dataset, but not in GDSC2v8.5 cnv_all dataset (can be found out by commenting this line out)\n",
    "gene_list_cnv = list(set(gene_list) - set(['DCAF12L2', 'FOXO4', 'STAG2', 'PHF6', 'AMER1', 'MED12', 'DDX3X', 'BCOR', 'ELF4', 'RBM10', 'SEPT6', 'AR', 'TFE3', 'GPC3', 'SSX1', 'NONO', 'BCORL1', 'IRS4', 'ATRX', 'FAM47C', 'GATA1', 'ARAF', 'KDM6A', 'SMC1A', 'RPL10', 'KDM5C', 'CRLF2', 'ZRSR2', 'FLNA', 'C15orf65', 'BTK', 'WAS', 'MSN', 'P2RY8', 'ZMYM3', 'NUTM2B', 'ATP2B3', 'MTCP1'])) # genes are in TGSA cn dataset, but not in GDSC2v8.5 cnv_all dataset (can be found out by commenting this line out)\n",
    "cnv_only_tgsa_overlaps = cnv_renamed.loc[cell_list_cnv, gene_list_cnv]"
   ]
  },
  {
   "cell_type": "code",
   "execution_count": null,
   "id": "1628591f",
   "metadata": {},
   "outputs": [],
   "source": [
    "cell_list_exp = list(set(cell_list) - set(['LS-1034'])) # cell lines are in TGSA exp dataset, but not in GDSC2v8.5 ge_readcount dataset (can be found out by commenting this line out)\n",
    "gene_list_exp = list(set(gene_list) - set(['SEPT9', 'FGFR1OP', 'SEPT6', 'H3F3A', 'H3F3B', 'SEPT5', 'FAM46C', 'MKL1', 'HIST1H4I', 'CARS'])) # genes are in TGSA exp dataset, but not in GDSC2v8.5 ge_readcount dataset (can be found out by commenting this line out)\n",
    "exp_only_tgsa_overlaps = exp_renamed.loc[cell_list_exp, gene_list_exp]"
   ]
  },
  {
   "cell_type": "code",
   "execution_count": null,
   "id": "094dba1b",
   "metadata": {},
   "outputs": [],
   "source": [
    "mu = mu.loc[cell_list_mut, gene_list_mut]\n",
    "cn = cn.loc[cell_list_cnv, gene_list_cnv]\n",
    "ex = ex.loc[cell_list_exp, gene_list_exp]"
   ]
  },
  {
   "cell_type": "code",
   "execution_count": null,
   "id": "265747e7",
   "metadata": {},
   "outputs": [],
   "source": [
    "a = mut_only_tgsa_overlaps.to_numpy().flatten()\n",
    "b = mu.to_numpy().flatten()\n",
    "concordance_correlation_coefficient(a, b), np.logical_and((a == 1), (b == 1)).sum()/np.logical_or((a == 1), (b == 1)).sum()\n",
    "# only 22.25% of ones overlap, pretty uncomparable"
   ]
  },
  {
   "cell_type": "code",
   "execution_count": null,
   "id": "e466fd89",
   "metadata": {},
   "outputs": [],
   "source": [
    "a = cnv_only_tgsa_overlaps.to_numpy().flatten()\n",
    "b = cn.to_numpy().flatten()\n",
    "pearsonr(a, b)[0] # another measure does not make much sense because values of cn are not in {-2, -1, 0, 1, 2} unlike cnv_only_tgsa_overlaps"
   ]
  },
  {
   "cell_type": "code",
   "execution_count": null,
   "id": "af387b55",
   "metadata": {},
   "outputs": [],
   "source": [
    "a = exp_only_tgsa_overlaps.to_numpy().flatten()\n",
    "b = ex.to_numpy().flatten()\n",
    "concordance_correlation_coefficient(a, b) # very comparable"
   ]
  },
  {
   "cell_type": "markdown",
   "id": "c77a035a",
   "metadata": {},
   "source": [
    "# Comparison between CCLE (24Q2) and GDSC2v8.5 input data"
   ]
  },
  {
   "cell_type": "code",
   "execution_count": null,
   "id": "4b746f46",
   "metadata": {},
   "outputs": [],
   "source": [
    "gdsc2_ic_shared_with_ccle = pd.read_csv('../targets/gdsc2_ic_shared_with_ccle.csv', index_col=0)\n",
    "gdsc2_mut_shared_with_ccle = pd.read_csv('../features/cell_features/gdsc2_mut_shared_with_ccle.csv', index_col=0)\n",
    "gdsc2_cnv_shared_with_ccle = pd.read_csv('../features/cell_features/gdsc2_cnv_shared_with_ccle.csv', index_col=0)\n",
    "gdsc2_exp_shared_with_ccle = pd.read_csv('../features/cell_features/gdsc2_exp_shared_with_ccle.csv', index_col=0)\n",
    "\n",
    "ccle_ic_shared_with_gdsc2 = pd.read_csv('../targets/ccle_ic_shared_with_gdsc2.csv', index_col=0)\n",
    "ccle_mut_shared_with_gdsc2 = pd.read_csv('../features/cell_features/ccle_mut_shared_with_gdsc2.csv', index_col=0, low_memory=False)\n",
    "ccle_cnv_shared_with_gdsc2 = pd.read_csv('../features/cell_features/ccle_cnv_shared_with_gdsc2.csv', index_col=0)\n",
    "ccle_exp_shared_with_gdsc2 = pd.read_csv('../features/cell_features/ccle_exp_shared_with_gdsc2.csv', index_col=0)\n",
    "\n",
    "gdsc2_ic_capped_shared_with_ccle = pd.read_csv('../targets/gdsc2_ic_capped_shared_with_ccle.csv', index_col=0)"
   ]
  },
  {
   "cell_type": "code",
   "execution_count": null,
   "id": "e4b4b88d",
   "metadata": {},
   "outputs": [],
   "source": [
    "a = gdsc2_ic_shared_with_ccle.to_numpy().flatten()\n",
    "b = ccle_ic_shared_with_gdsc2.to_numpy().flatten()\n",
    "a, b = a[a == a], b[a == a]\n",
    "a, b = a[b == b], b[b == b]\n",
    "concordance_correlation_coefficient(a, b)\n",
    "# CCLE and GDSC IC50s are kind of comparable, but not really\n",
    "# differences of screening:\n",
    "# CCLE doses are .0025, .0080, .025, .080, .25, .80, 2.53, 8 (rounded values, the second-last one is actually 2.531646; sometimes not the whole range are used), IC50 is capped at maximum tested dose (either 2.53 or 8)\n",
    "# GDSC2 uses not only two (as in CCLE only 2.53 and 8 are used as maximum dose), but a lot of maximum doses: .01, .0125, .02, .1, .2, .25, .5, .8, 1, 2, 2.5, 3, 4, 5, 8, 10, 20, 30, 32, 40, 50, 100, 121, 640, 2000, IC50 is not capped at maximum tested dose"
   ]
  },
  {
   "cell_type": "code",
   "execution_count": null,
   "id": "20e36835",
   "metadata": {},
   "outputs": [],
   "source": [
    "# we capped the IC50 in GDSC to the maximum tested dose\n",
    "# almost no difference to uncapped dataset, thus we did not mention it in our paper\n",
    "a = gdsc2_ic_capped_shared_with_ccle.to_numpy().flatten()\n",
    "b = ccle_ic_shared_with_gdsc2.to_numpy().flatten()\n",
    "a, b = a[a == a], b[a == a]\n",
    "a, b = a[b == b], b[b == b]\n",
    "concordance_correlation_coefficient(a, b)"
   ]
  },
  {
   "cell_type": "code",
   "execution_count": null,
   "id": "f4d347ac",
   "metadata": {},
   "outputs": [],
   "source": [
    "a = gdsc2_mut_shared_with_ccle.to_numpy().flatten()\n",
    "b = ccle_mut_shared_with_gdsc2.to_numpy().flatten()\n",
    "concordance_correlation_coefficient(a, b), np.logical_and((a == 1), (b == 1)).sum()/np.logical_or((a == 1), (b == 1)).sum()\n",
    "# only 11.65% of ones overlap, pretty uncomparable"
   ]
  },
  {
   "cell_type": "code",
   "execution_count": null,
   "id": "b1c1c49f",
   "metadata": {},
   "outputs": [],
   "source": [
    "a = gdsc2_cnv_shared_with_ccle.to_numpy().flatten()\n",
    "b = ccle_cnv_shared_with_gdsc2.to_numpy().flatten()\n",
    "pearsonr(a, b)[0] # another measure does not make much sense because values of cn are not in {-2, -1, 0, 1, 2} unlike ccle_cnv_shared_with_gdsc2"
   ]
  },
  {
   "cell_type": "code",
   "execution_count": null,
   "id": "2ddc5f32",
   "metadata": {},
   "outputs": [],
   "source": [
    "a = gdsc2_exp_shared_with_ccle.to_numpy().flatten()\n",
    "b = ccle_exp_shared_with_gdsc2.to_numpy().flatten()\n",
    "concordance_correlation_coefficient(a, b) # very comparable"
   ]
  },
  {
   "cell_type": "markdown",
   "id": "59b866ce",
   "metadata": {},
   "source": [
    "# GDSC2: Do PAN-CANCER MUT columns equal the corresponding MUT columns?"
   ]
  },
  {
   "cell_type": "code",
   "execution_count": null,
   "id": "87b0e1ea",
   "metadata": {},
   "outputs": [],
   "source": [
    "pancancer_genetic_features_gdsc2 = pd.read_csv('../features/cell_features/pancancer_genetic_features_gdsc2.csv', index_col=0)"
   ]
  },
  {
   "cell_type": "code",
   "execution_count": null,
   "id": "5f47d702",
   "metadata": {},
   "outputs": [],
   "source": [
    "pancancer_genetic_features_gdsc2.columns = [i.replace('_', '.') for i in pancancer_genetic_features_gdsc2.columns]"
   ]
  },
  {
   "cell_type": "code",
   "execution_count": null,
   "id": "a0fc7d2d",
   "metadata": {},
   "outputs": [],
   "source": [
    "num_genes_ending_with_mut = 0\n",
    "for i in pancancer_genetic_features_gdsc2.columns:\n",
    "    if i.endswith('.mut'):\n",
    "        num_genes_ending_with_mut += 1\n",
    "num_genes_ending_with_mut"
   ]
  },
  {
   "cell_type": "code",
   "execution_count": null,
   "id": "94d534bc",
   "metadata": {},
   "outputs": [],
   "source": [
    "shared_rows_pancan_mut = list(set(pancancer_genetic_features_gdsc2.index).intersection(set(mut.index)))\n",
    "shared_cols_pancan_mut = list(set(pancancer_genetic_features_gdsc2.columns).intersection(set(mut.columns)))\n",
    "len(shared_rows_pancan_mut), len(shared_cols_pancan_mut) # 920 out of 925 cell lines and 285 out of 310 mut features (310 from cell above)"
   ]
  },
  {
   "cell_type": "code",
   "execution_count": null,
   "id": "ee7643cf",
   "metadata": {},
   "outputs": [],
   "source": [
    "a = pancancer_genetic_features_gdsc2.loc[shared_rows_pancan_mut, shared_cols_pancan_mut].to_numpy().flatten()\n",
    "b = mut.loc[shared_rows_pancan_mut, shared_cols_pancan_mut].to_numpy().flatten()\n",
    "concordance_correlation_coefficient(a, b), np.logical_and((a == 1), (b == 1)).sum()/np.logical_or((a == 1), (b == 1)).sum()\n",
    "# pan-cancer mut features differ a lot from mut_all features, only 6% of ones overlap"
   ]
  }
 ],
 "metadata": {
  "kernelspec": {
   "display_name": "data_env",
   "language": "python",
   "name": "data_env"
  },
  "language_info": {
   "codemirror_mode": {
    "name": "ipython",
    "version": 3
   },
   "file_extension": ".py",
   "mimetype": "text/x-python",
   "name": "python",
   "nbconvert_exporter": "python",
   "pygments_lexer": "ipython3",
   "version": "3.9.18"
  }
 },
 "nbformat": 4,
 "nbformat_minor": 5
}
